{
 "cells": [
  {
   "cell_type": "markdown",
   "metadata": {},
   "source": [
    "# Práctica 1: Preliminares\n",
    "Duración estimada: 3 horas.\n",
    "\n",
    "Objetivo: Iniciar y familiarizar al alumnado en algunas instrucciones básicas de iPython.\n",
    "\n",
    "## 1 Una breve introducción\n",
    "Los comandos en iPython se ejecutan tecleando SHIFT+ENTER."
   ]
  },
  {
   "cell_type": "code",
   "execution_count": 3,
   "metadata": {
    "collapsed": false
   },
   "outputs": [],
   "source": [
    "(-3*4+5/2)/7"
   ]
  },
  {
   "cell_type": "code",
   "execution_count": 4,
   "metadata": {
    "collapsed": false
   },
   "outputs": [],
   "source": [
    "3/2-1/3"
   ]
  },
  {
   "cell_type": "markdown",
   "metadata": {},
   "source": [
    "Podemos ejecutar varias sentencias en grupo sin más que separarlas con una \",\" en una misma línea de código. Observar que todas las instrucciones de entrada tienen un único identificador vectorial de salida."
   ]
  },
  {
   "cell_type": "code",
   "execution_count": 5,
   "metadata": {
    "collapsed": false
   },
   "outputs": [],
   "source": [
    "(-3*4+5/2)/7, 3/2-1/3, 5^2"
   ]
  },
  {
   "cell_type": "markdown",
   "metadata": {},
   "source": [
    "Debemos tener cuidado con los espacios, en especial en lo respecta multiplicaciones. En concreto, un espacio no se interpreta como una multiplicación."
   ]
  },
  {
   "cell_type": "code",
   "execution_count": null,
   "metadata": {
    "collapsed": true
   },
   "outputs": [],
   "source": [
    "-2 + 5\n",
    "2 3;"
   ]
  },
  {
   "cell_type": "markdown",
   "metadata": {},
   "source": [
    "Con el símbolo \"$\" al final de una sentencia logramos que no se muestre el resultado de la misma, aunque su resultado quede almacenado en la correspondiente variable de salida."
   ]
  },
  {
   "cell_type": "code",
   "execution_count": null,
   "metadata": {
    "collapsed": true
   },
   "outputs": [],
   "source": [
    "5^2$\n",
    "%;"
   ]
  },
  {
   "cell_type": "markdown",
   "metadata": {},
   "source": [
    "Claramente debemos cuidar el uso de paréntesis en las operaciones."
   ]
  },
  {
   "cell_type": "code",
   "execution_count": null,
   "metadata": {
    "collapsed": true
   },
   "outputs": [],
   "source": [
    " 5^-1-2;\n",
    " 5^(-1-2);"
   ]
  },
  {
   "cell_type": "markdown",
   "metadata": {},
   "source": [
    "Por defecto wxMaxima considera un formato \"xml\" y las presentaciones en pantalla suelen abreviarse en caso de ser excesivamente largas."
   ]
  },
  {
   "cell_type": "code",
   "execution_count": null,
   "metadata": {
    "collapsed": true
   },
   "outputs": [],
   "source": [
    " 3^1000;"
   ]
  },
  {
   "cell_type": "markdown",
   "metadata": {},
   "source": [
    "Podemos alternativamente pasar a formato \"ascii\" con la orden \"set_display(ascii)\"."
   ]
  },
  {
   "cell_type": "code",
   "execution_count": null,
   "metadata": {
    "collapsed": true
   },
   "outputs": [],
   "source": [
    " set_display(ascii)$\n",
    "3^1000;\n",
    " set_display(xml)$"
   ]
  },
  {
   "cell_type": "markdown",
   "metadata": {},
   "source": [
    "Para introducir una raíz cuadrada usaremos la orden \"sqrt\", o bien una potencia fraccionaria."
   ]
  },
  {
   "cell_type": "code",
   "execution_count": null,
   "metadata": {
    "collapsed": true
   },
   "outputs": [],
   "source": [
    " sqrt(7); 7^(1/2);\n",
    " sqrt(8); 8^(1/2);"
   ]
  },
  {
   "cell_type": "markdown",
   "metadata": {},
   "source": [
    "Podemos también considerar raíces de cualquier índice, expresadas mediante potencias fraccionarias."
   ]
  },
  {
   "cell_type": "code",
   "execution_count": null,
   "metadata": {
    "collapsed": true
   },
   "outputs": [],
   "source": [
    "5^(1/3);\n",
    "3^1/3*9^1/3;"
   ]
  },
  {
   "cell_type": "markdown",
   "metadata": {},
   "source": [
    "Para asignar un valor a una variable o expresión usaremos \":\"."
   ]
  },
  {
   "cell_type": "code",
   "execution_count": null,
   "metadata": {
    "collapsed": true
   },
   "outputs": [],
   "source": [
    " a:1$ b:3$ c:a+b;\n",
    " a; b; c;"
   ]
  },
  {
   "cell_type": "markdown",
   "metadata": {},
   "source": [
    "Para reinicializar una (o varias variables) usaremos la orden \"kill(a,b,...)\".\n",
    "Con la orden \"kill(all)\" reinicializamos todas las variables, incluidas las variables de salida %o."
   ]
  },
  {
   "cell_type": "code",
   "execution_count": null,
   "metadata": {
    "collapsed": true
   },
   "outputs": [],
   "source": [
    " kill(a,b)$ a; b; c;\n",
    " kill(all);\n",
    " a+b; c;"
   ]
  },
  {
   "cell_type": "markdown",
   "metadata": {},
   "source": [
    "Con la instrucción \"/* COMENTARIO */\" se puede introducir un comentario que es ignorado a la hora de calcular."
   ]
  },
  {
   "cell_type": "code",
   "execution_count": null,
   "metadata": {
    "collapsed": true
   },
   "outputs": [],
   "source": [
    "v0:2 /*Velocidad inicial*/;\n",
    "e0:14 /*Espacio inicial*/;\n",
    "a:-0.5 /*Aceleración*/ ;\n",
    "t:3 /*Tiempo*/;\n",
    "e:e0+v0*t+1/2*a*t^2;\n",
    " kill(all)$ v0; e0; a; t; e;"
   ]
  },
  {
   "cell_type": "markdown",
   "metadata": {},
   "source": [
    "wxMaxima también puede trabajar en modo simbólico."
   ]
  },
  {
   "cell_type": "code",
   "execution_count": null,
   "metadata": {
    "collapsed": true
   },
   "outputs": [],
   "source": [
    " p:(x+y)^4;\n",
    " q:expand(p);\n",
    " p-q;\n",
    " factor(q);\n",
    " %-p;"
   ]
  },
  {
   "cell_type": "markdown",
   "metadata": {},
   "source": [
    "La orden factor no sólo permite factorizar polinomios, sino también números enteros."
   ]
  },
  {
   "cell_type": "code",
   "execution_count": null,
   "metadata": {
    "collapsed": true
   },
   "outputs": [],
   "source": [
    " a:1235431450$ factor(a);\n",
    " a-2*(5^2)*11*2246239;\n",
    " b:2398232343243249984321312321$ factor(b);\n",
    " b-3*733*15117701*72140687161773179;"
   ]
  },
  {
   "cell_type": "markdown",
   "metadata": {},
   "source": [
    "## 2 Operaciones con números en coma flotante"
   ]
  },
  {
   "cell_type": "code",
   "execution_count": null,
   "metadata": {
    "collapsed": true
   },
   "outputs": [],
   "source": [
    " kill(all);\n",
    " 1.2345678902+0.3333333333*3;"
   ]
  },
  {
   "cell_type": "markdown",
   "metadata": {},
   "source": [
    "Maxima devuelve resultados exactos si los datos de entrada son exactos. En otro caso devuelve cantidades aproximadas. Observar además que las fracciones se simplican automáticamente."
   ]
  },
  {
   "cell_type": "code",
   "execution_count": null,
   "metadata": {
    "collapsed": true
   },
   "outputs": [],
   "source": [
    " a:36/128;\n",
    " 36.0/128;"
   ]
  },
  {
   "cell_type": "markdown",
   "metadata": {},
   "source": [
    "Con la orden \"float\" podemos obtener la expresión decimal con 16 dígitos correctos."
   ]
  },
  {
   "cell_type": "code",
   "execution_count": null,
   "metadata": {
    "collapsed": true
   },
   "outputs": [],
   "source": [
    " float(a);\n",
    " float(sqrt(8));"
   ]
  },
  {
   "cell_type": "markdown",
   "metadata": {},
   "source": [
    "Observar la diferencia en las siguientes operaciones al trabajar tanto con cantidades exactas en modo simbólico como con números en punto flotante."
   ]
  },
  {
   "cell_type": "code",
   "execution_count": null,
   "metadata": {
    "collapsed": true
   },
   "outputs": [],
   "source": [
    " b:sqrt(2)+sqrt(3);\n",
    " bf:float(b);\n",
    " c:1.0*sqrt(2)+sqrt(3);\n",
    " cf:float(c);\n",
    " c-b;\n",
    " cf-bf;\n",
    " c-bf;\n",
    " float(c-bf);\n",
    " kill(all);"
   ]
  },
  {
   "cell_type": "markdown",
   "metadata": {},
   "source": [
    "Podemos cambiar la precisión en los cálculos con la sentencia \"fpprec\".\n",
    "Para visualizar el nuevo desarrollo usaremos la orden \"bfloat\"."
   ]
  },
  {
   "cell_type": "code",
   "execution_count": null,
   "metadata": {
    "collapsed": true
   },
   "outputs": [],
   "source": [
    " fpprec:10$\n",
    " a:float(sqrt(8));\n",
    " b:bfloat(sqrt(8));\n",
    " fpprec:50$ float(sqrt(8)); c:bfloat(sqrt(8));\n",
    " fpprec:16;"
   ]
  },
  {
   "cell_type": "markdown",
   "metadata": {},
   "source": [
    "Observemos que tras modificar el número de dígitos, las variables retienen el número de cifras respectivas computadas."
   ]
  },
  {
   "cell_type": "code",
   "execution_count": null,
   "metadata": {
    "collapsed": true
   },
   "outputs": [],
   "source": [
    " b-a; c-a; c-b;"
   ]
  },
  {
   "cell_type": "markdown",
   "metadata": {},
   "source": [
    "Si deseamos una salida con potencias de 10, usaremos la sentencia \"numer\"."
   ]
  },
  {
   "cell_type": "code",
   "execution_count": null,
   "metadata": {
    "collapsed": true
   },
   "outputs": [],
   "source": [
    " b-a, numer; c-a, numer; c-b, numer;"
   ]
  },
  {
   "cell_type": "markdown",
   "metadata": {},
   "source": [
    "\"numer\" es realmente una variable lógica, cuyo valor por defecto es \"false\". Por ello, se trabaja de modo exacto con cantidades exactas."
   ]
  },
  {
   "cell_type": "code",
   "execution_count": null,
   "metadata": {
    "collapsed": true
   },
   "outputs": [],
   "source": [
    " numer;\n",
    " 1/3+1/7;"
   ]
  },
  {
   "cell_type": "markdown",
   "metadata": {},
   "source": [
    "Podemos, no obstante, cambiar el valor de \"numer\" en cualquier momento."
   ]
  },
  {
   "cell_type": "code",
   "execution_count": null,
   "metadata": {
    "collapsed": true
   },
   "outputs": [],
   "source": [
    " numer:true$ 1/3+1/7; numer:false$ 1/3+1/7;"
   ]
  },
  {
   "cell_type": "markdown",
   "metadata": {},
   "source": [
    "Los números pi y e se obtienen como %pi y %e, respectivamente. Sin el símbolo \"%\" sólo se obtienen variables simbólicas."
   ]
  },
  {
   "cell_type": "code",
   "execution_count": null,
   "metadata": {
    "collapsed": true
   },
   "outputs": [],
   "source": [
    " pi; float(pi); %pi; float(%pi);\n",
    " float(pi^100); float(%pi^100);\n",
    " e; float(e); %e; float(%e);\n",
    " float(sqrt(e+1)); float(sqrt(%e+1)); float(sqrt(exp(1)+1));"
   ]
  },
  {
   "cell_type": "markdown",
   "metadata": {},
   "source": [
    "Algunos ejemplos adicionales."
   ]
  },
  {
   "cell_type": "code",
   "execution_count": null,
   "metadata": {
    "collapsed": true
   },
   "outputs": [],
   "source": [
    "float(2^-100);\n",
    " kill(all);\n",
    " a:sqrt(2)$ b:%pi/3$ c:a+b;"
   ]
  },
  {
   "cell_type": "markdown",
   "metadata": {},
   "source": [
    "Podemos referirnos un cálculo realizado anteriormente con la sentencia \"%o\" indicando el número de salida correspondiente."
   ]
  },
  {
   "cell_type": "code",
   "execution_count": null,
   "metadata": {
    "collapsed": true
   },
   "outputs": [],
   "source": [
    "float(%o3^2);\n",
    " bfloat(%o2^2000);\n",
    " %,numer;\n",
    " cos(1.23);\n",
    " sin(3.24);\n",
    " tan(pi/3); tan(%pi/3);\n",
    " fpprec: 10$ bfloat(a^2+b^20+c^30);\n",
    " %,numer;\n",
    " fpprec: 20$ bfloat(a^2+b^20+c^30);\n",
    " %,numer;"
   ]
  },
  {
   "cell_type": "markdown",
   "metadata": {},
   "source": [
    "## 3 Introducción a la representación gráfica"
   ]
  },
  {
   "cell_type": "code",
   "execution_count": null,
   "metadata": {
    "collapsed": true
   },
   "outputs": [],
   "source": [
    " kill(all);"
   ]
  },
  {
   "cell_type": "markdown",
   "metadata": {},
   "source": [
    "El comando plot2d permite la representación de funciones y curvas en el plano. Observamos que por defecto la representación se hace en formato \"gnuplot\"."
   ]
  },
  {
   "cell_type": "code",
   "execution_count": null,
   "metadata": {
    "collapsed": true
   },
   "outputs": [],
   "source": [
    " plot2d([x^2],[x,-2,2]);\n",
    " plot2d([x^2],[x,-2,2],[y,-1,3]);"
   ]
  },
  {
   "cell_type": "markdown",
   "metadata": {},
   "source": [
    "De modo sencillo podemos representar varias curvas en una misma gráfica, crear etiquetas para los ejes, leyendas, título, rejilla, etc. Además, se dispone de una amplia gama de colores (blue, red, green, magenta, black, cyan, coral, salmon, etc.)."
   ]
  },
  {
   "cell_type": "code",
   "execution_count": null,
   "metadata": {
    "collapsed": true
   },
   "outputs": [],
   "source": [
    "plot2d([x^2,2*x+1],[x,-3,3]);\n",
    " plot2d([x^2,2*x+1],[x,-3,3],[xlabel,\"Eje OX\"],[ylabel,\"Eje OY\"],[gnuplot_preamble, \"set title 'Gráfica de prueba'\"],\n",
    "[color,green,magenta],[legend,\"f(x)=x^2\",\"g(x)=2x+1\"]);\n",
    " plot2d([x^2,2*x+1],[x,-3,3],[xlabel,\"Eje OX\"],[ylabel,\"Eje OY\"],[gnuplot_preamble, \"set grid;set title 'Gráfica de prueba'\"],\n",
    "[color,green,magenta],[legend,\"f(x)=x^2\",\"g(x)=2x+1\"]);\n",
    " plot2d([sin(x),cos(x)],[x,-2*%pi,2*%pi],[xlabel,\"x\"],[ylabel,\"y\"],[legend,\"Función seno: f(x)=sen(x)\",\"Función coseno: g(x)=cos(x)\"],\n",
    "[gnuplot_preamble, \"set grid; set title 'Funciones trigonométricas elementales'\"]);\n",
    " plot2d([sin,cos],[x,-2*%pi,2*%pi],[xlabel,\"x\"],[ylabel,\"y\"],[legend,\"Función seno: f(x)=sen(x)\",\"Función coseno: g(x)=cos(x)\"],\n",
    "[gnuplot_preamble, \"set grid; set title 'Funciones trigonométricas elementales'\"]);"
   ]
  },
  {
   "cell_type": "markdown",
   "metadata": {},
   "source": [
    "Con la orden \"[nticks,n]\" podemos mejorar la representación gráfica."
   ]
  },
  {
   "cell_type": "code",
   "execution_count": null,
   "metadata": {
    "collapsed": true
   },
   "outputs": [],
   "source": [
    " plot2d(sin(1/x),[x,-0.5,0.5],[y,-1.5,1.5]);\n",
    " plot2d(sin(1/x),[x,-0.5,0.5],[y,-1.5,1.5],[nticks,500]);"
   ]
  },
  {
   "cell_type": "markdown",
   "metadata": {},
   "source": [
    "Escribir el prefijo \"wx\" antes de la instrucción para representar la gráfica logramos una representación en línea."
   ]
  },
  {
   "cell_type": "code",
   "execution_count": null,
   "metadata": {
    "collapsed": true
   },
   "outputs": [],
   "source": [
    "wxplot2d(sin(x)*sin(20*x),[x,0,4*%pi]);\n",
    " wxplot2d(sin(x)*sin(200*x),[x,0,2*%pi]);\n",
    " wxplot2d(sin(x)*sin(200*x),[x,0,2*%pi],[nticks,500]);"
   ]
  },
  {
   "cell_type": "markdown",
   "metadata": {},
   "source": [
    "Otras opciones alternativas para representar gráficas con plot2d pasan por considerar una representación \"en línea\" con la orden wxplot2d, o bien un formato \"openmath\"."
   ]
  },
  {
   "cell_type": "code",
   "execution_count": null,
   "metadata": {
    "collapsed": true
   },
   "outputs": [],
   "source": [
    "wxplot2d(2*x-x^2,[x,-1,3]);\n",
    " plot2d([2*x-x^2], [x,-1,3],\n",
    " [plot_format, openmath],\n",
    " [nticks,20]);\n",
    " plot2d([2*x-x^2], [x,-1,3],\n",
    " [plot_format, gnuplot],\n",
    " [nticks,20]);"
   ]
  },
  {
   "cell_type": "markdown",
   "metadata": {},
   "source": [
    "¿Puedes indicar por qué se produce error en la siguiente ejecución?"
   ]
  },
  {
   "cell_type": "code",
   "execution_count": null,
   "metadata": {
    "collapsed": true
   },
   "outputs": [],
   "source": [
    " x:5$ wxplot2d([2*x-x^2], [x,-1,3]);\n",
    " kill(x);"
   ]
  },
  {
   "cell_type": "markdown",
   "metadata": {},
   "source": [
    "Puedes consultar en línea la ayuda de wxMaxima sobre un determinado comando tecleando \"??\" antes del comando respectivo.\n"
   ]
  },
  {
   "cell_type": "code",
   "execution_count": null,
   "metadata": {
    "collapsed": true
   },
   "outputs": [],
   "source": [
    " ??plot2d;"
   ]
  },
  {
   "cell_type": "markdown",
   "metadata": {},
   "source": [
    "Con la orden plot2d también se pueden representar gráficas de puntos discretos, o incluso curvas definidas a través de un parámetro."
   ]
  },
  {
   "cell_type": "code",
   "execution_count": null,
   "metadata": {
    "collapsed": true
   },
   "outputs": [],
   "source": [
    "puntos:[[-1,1],[3,2],[3,-2],[0,-3],[4,-2]] /* Aquí puntos es una lista de puntos en el plano */;\n",
    " wxplot2d([discrete, puntos]);"
   ]
  },
  {
   "cell_type": "markdown",
   "metadata": {},
   "source": [
    "Por defecto wxMaxima une los puntos mediante una poligonal. Podemos no obstante representar los puntos de modo discreto usando símbolos comunes (point, box, square, circle, diamond, etc.)."
   ]
  },
  {
   "cell_type": "code",
   "execution_count": null,
   "metadata": {
    "collapsed": true
   },
   "outputs": [],
   "source": [
    " wxplot2d([discrete, puntos],[style,points], [point_type,diamond],[color, red]);"
   ]
  },
  {
   "cell_type": "markdown",
   "metadata": {},
   "source": [
    "Veamos cómo tratar curvas definidas de modo parámetrico."
   ]
  },
  {
   "cell_type": "code",
   "execution_count": null,
   "metadata": {
    "collapsed": true
   },
   "outputs": [],
   "source": [
    "plot2d([parametric, t, abs(cosh(t/5)-2)+sin(t^2)/10,[t,-10,10],[nticks,1000]]);\n",
    " r:(exp(cos(t))-2*cos(4*t)-sin(t/12)^5)$\n",
    "plot2d([parametric, r*sin(t), r*cos(t), [t, -8*%pi, 8*%pi], [nticks, 2000]]);"
   ]
  },
  {
   "cell_type": "markdown",
   "metadata": {},
   "source": [
    "De modo similar, podemos representar curvas definidas implicitamente con la orden \"implicit_plot\". Para ello cargaremos previamente el paquete correspondiente."
   ]
  },
  {
   "cell_type": "code",
   "execution_count": null,
   "metadata": {
    "collapsed": true
   },
   "outputs": [],
   "source": [
    "load(implicit_plot);\n",
    " implicit_plot(x^2+y^2-1,[x,-1.5,1.5],[y,-1.5,1.5]);\n",
    " wximplicit_plot(x^2+y^2=1,[x,-1.5,1.5],[y,-1.5,1.5],[nticks,1000],[gnuplot_preamble, \"set size ratio 1\"]);\n",
    " wximplicit_plot((x+2)^2+y^2=1,[x,-2,0],[y,-1.5,1.5],[nticks,1000],[gnuplot_preamble, \"set size ratio 1.5; set zeroaxis\"]);\n",
    " wximplicit_plot(x^3-2*x*y + y^3,[x,-3,3],[y,-3,3],[nticks,1000],[gnuplot_preamble, \"set size ratio 1\"]);\n",
    " wximplicit_plot(x^2-y^2=4,[x,-10,10],[y,-10,10],[color,green],[nticks,1000],[gnuplot_preamble, \"set size ratio 1\"]);\n",
    " wximplicit_plot(abs(x)^(1/3)+abs(y)^(1/3)-2,[x,-10,10],[y,-10,10],[color,red],[nticks,1000],[gnuplot_preamble, \"set size ratio 1\"]);"
   ]
  },
  {
   "cell_type": "markdown",
   "metadata": {},
   "source": [
    " Para gráficas en 3D podemos usar, de modo análogo, la orden plot3d."
   ]
  },
  {
   "cell_type": "code",
   "execution_count": null,
   "metadata": {
    "collapsed": true
   },
   "outputs": [],
   "source": [
    "wxplot3d(x^2+y^2,[x,-5,5],[y,-5,5]);\n",
    " wxplot3d(x^2+y^2, [x,-5,5], [y,-5,5],\n",
    " [gnuplot_preamble, \"set hidden3d\"])$\n",
    " plot3d(cos(x*y), [x,-5,5], [y,-5,5],[grid, 75,75]);\n",
    " wxplot3d(cos(x*y), [x,-5,5], [y,-5,5], [plot_format,gnuplot],[gnuplot_preamble, \"set pm3d at b\"])$\n",
    " plot3d(exp(-x^2-y^2), [x,-2,2], [y,-2,2],[grid, 50,50]);\n",
    " wxplot3d(exp(-x^2-y^2), [x,-5,5], [y,-5,5],[plot_format,gnuplot],[gnuplot_preamble, \"set pm3d at b\"])$"
   ]
  },
  {
   "cell_type": "markdown",
   "metadata": {},
   "source": [
    "En una próxima práctica veremos otros comandos adecuados para efectuar representaciones gráficas 2D y 3D algo más elaboradas.\n",
    "## 4 Funciones y expresiones."
   ]
  },
  {
   "cell_type": "code",
   "execution_count": null,
   "metadata": {
    "collapsed": true
   },
   "outputs": [],
   "source": [
    " kill(all);"
   ]
  },
  {
   "cell_type": "markdown",
   "metadata": {},
   "source": [
    "Una función en wxMaxima es un \"mecanismo de sustitución\" y se define con la sintaxis \"nombre(variables):=expresión\"."
   ]
  },
  {
   "cell_type": "code",
   "execution_count": null,
   "metadata": {
    "collapsed": true
   },
   "outputs": [],
   "source": [
    " log10(x):=log(x)/log(10);\n",
    " log10(10.0);\n",
    " %,numer;\n",
    " log10(1.23),numer;\n",
    " wxplot2d(log10,[x,1,10]);"
   ]
  },
  {
   "cell_type": "markdown",
   "metadata": {},
   "source": [
    "Observación: Maxima sólo trae definida por defecto la función logaritmo natural (o neperiano)."
   ]
  },
  {
   "cell_type": "code",
   "execution_count": null,
   "metadata": {
    "collapsed": true
   },
   "outputs": [],
   "source": [
    "f(x):=x^2-4*x+3;\n",
    "f*2; f(x)*2;\n",
    "f(s+1); expand(%);"
   ]
  },
  {
   "cell_type": "markdown",
   "metadata": {},
   "source": [
    "Observa los siguientes modos de representar una función de una variable real."
   ]
  },
  {
   "cell_type": "code",
   "execution_count": null,
   "metadata": {
    "collapsed": true
   },
   "outputs": [],
   "source": [
    " wxplot2d(f(x),[x,0,4]);\n",
    " wxplot2d(f,[s,0,4]);\n",
    " wxplot2d(f,[x,0,4]);"
   ]
  },
  {
   "cell_type": "markdown",
   "metadata": {},
   "source": [
    "Es claro que la siguiente instrucción es errónea."
   ]
  },
  {
   "cell_type": "code",
   "execution_count": null,
   "metadata": {
    "collapsed": true
   },
   "outputs": [],
   "source": [
    " wxplot2d(f(x),[s,0,4]);"
   ]
  },
  {
   "cell_type": "markdown",
   "metadata": {},
   "source": [
    "Veamos el siguiente ejemplo en el que dibujamos funciones trasladadas."
   ]
  },
  {
   "cell_type": "code",
   "execution_count": null,
   "metadata": {
    "collapsed": true
   },
   "outputs": [],
   "source": [
    " g(x):=f(x-2)$ h(x):=f(x+5)$ wxplot2d([f,g,h],[x,-6,6],[y,-1.5,4],[color,red,blue,green]);"
   ]
  },
  {
   "cell_type": "markdown",
   "metadata": {},
   "source": [
    "Si cambiamos la definición de f(x), las funciones g(x) y h(x) se verán afectadas."
   ]
  },
  {
   "cell_type": "code",
   "execution_count": null,
   "metadata": {
    "collapsed": true
   },
   "outputs": [],
   "source": [
    " f(x):=x/(x^2+1)$ wxplot2d([f,g,h],[x,-8,8],[y,-1,1],[color,red,blue,green]);\n",
    " kill(f);\n",
    " f(x); g(x); h(x);\n",
    " kill(g,h);"
   ]
  },
  {
   "cell_type": "markdown",
   "metadata": {},
   "source": [
    "También podemos trabajar con expresiones, en lugar de funciones."
   ]
  },
  {
   "cell_type": "code",
   "execution_count": null,
   "metadata": {
    "collapsed": true
   },
   "outputs": [],
   "source": [
    "expr:x^2-4*x+3;\n",
    " wxplot2d(expr,[x,0,4]);"
   ]
  },
  {
   "cell_type": "markdown",
   "metadata": {},
   "source": [
    "Sin embargo, al evaluar una expresión debemos tener cuidado y usar las órdenes \"subst\" o \"ev\", tal como se indica a continuación."
   ]
  },
  {
   "cell_type": "code",
   "execution_count": null,
   "metadata": {
    "collapsed": true
   },
   "outputs": [],
   "source": [
    "expr(1);\n",
    " subst(x=1,expr);\n",
    " subst(1,x,expr); ev(expr,x=1);\n",
    " expand(subst(s+1,x,expr)); expand(ev(expr,x=s+1));\n",
    " u:x^2+sin(2*x);\n",
    " subst(x=%pi/4,u); ev(u,x=%pi/4);"
   ]
  },
  {
   "cell_type": "markdown",
   "metadata": {},
   "source": [
    "Podemos además definir una función a partir de una expresión, sin más que evaluar la expresión en un argumento genérico."
   ]
  },
  {
   "cell_type": "code",
   "execution_count": null,
   "metadata": {
    "collapsed": true
   },
   "outputs": [],
   "source": [
    " f(x):=ev(expr,x=x); f(1); f(1.5);\n",
    " wxplot2d(f(x+1),[x,-2,3]);"
   ]
  },
  {
   "cell_type": "markdown",
   "metadata": {},
   "source": [
    "## 5 Resolución de ecuaciones y sistemas de ecuaciones."
   ]
  },
  {
   "cell_type": "code",
   "execution_count": null,
   "metadata": {
    "collapsed": true
   },
   "outputs": [],
   "source": [
    " kill(all);"
   ]
  },
  {
   "cell_type": "markdown",
   "metadata": {},
   "source": [
    "Podemos resolver ecuaciones o sistemas de ecuaciones algebraicas (!) con la orden \"solve\"."
   ]
  },
  {
   "cell_type": "code",
   "execution_count": null,
   "metadata": {
    "collapsed": true
   },
   "outputs": [],
   "source": [
    " solve(x^2=25,x); solve(x^2-25,x);\n",
    " solve(a*x+b=c,x);\n",
    " solve(a*x+b=c,a) /* Se resuelve la ecuación respecto de \"a\", siendo \"b\", \"c\" y \"x\" parámetros. */;\n",
    " solve(x^2=a+1,x); solve(x^2=a+1,a);\n",
    " solve([y=x+1,x+y=5]);\n",
    " solve([y=x+a,x+y=5],[x,y]) /* En este caso interpretamos \"a\" como parámetro */;\n",
    " solve([y=x+a,x+y=5],[y,a]) /* En este caso interpretamos \"x\" como parámetro */;\n",
    " solve(a*x^2+b*x+c=0,x);"
   ]
  },
  {
   "cell_type": "markdown",
   "metadata": {},
   "source": [
    "Resolución por radicales de la ecuación cúbica."
   ]
  },
  {
   "cell_type": "code",
   "execution_count": null,
   "metadata": {
    "collapsed": true
   },
   "outputs": [],
   "source": [
    " solve(a*x^3+b*x^2+c*x+d=0,x);"
   ]
  },
  {
   "cell_type": "markdown",
   "metadata": {},
   "source": [
    "Resolución por radicales de la ecuación de cuarto grado."
   ]
  },
  {
   "cell_type": "code",
   "execution_count": null,
   "metadata": {
    "collapsed": true
   },
   "outputs": [],
   "source": [
    "solve(a*x^4+b*x^3+c*x^2+d*x+e=0,x);\n",
    " set_display(ascii)$ solve(a*x^4+b*x^3+c*x^2+d*x+e=0,x);\n",
    " set_display(xml)$"
   ]
  },
  {
   "cell_type": "markdown",
   "metadata": {},
   "source": [
    "Imposibilidad de resolución de la quíntica por radicales."
   ]
  },
  {
   "cell_type": "code",
   "execution_count": null,
   "metadata": {
    "collapsed": true
   },
   "outputs": [],
   "source": [
    " solve(a*x^5+b*x^4+c*x^3+d*x^2+e*x+f=0,x);"
   ]
  },
  {
   "cell_type": "markdown",
   "metadata": {},
   "source": [
    "Dado que las soluciones vienen dadas en forma de lista, podemos realizar una asignación con los valores obtenidos. Podemos proceder de diversas maneras, con las órdenes \"rhs\" y \"map\"."
   ]
  },
  {
   "cell_type": "code",
   "execution_count": null,
   "metadata": {
    "collapsed": true
   },
   "outputs": [],
   "source": [
    " eq:6*x^2+x-2;\n",
    " sols:solve(eq=0,x);\n",
    " sols[1]; sols[2];\n",
    " rhs(part(sols,1)); rhs(part(sols,2));\n",
    " solu:map(rhs,sols);\n",
    " solu[1]; solu[2];\n",
    " subst(x=solu[1],eq); subst(x=solu[2],eq);"
   ]
  },
  {
   "cell_type": "markdown",
   "metadata": {},
   "source": [
    "También podemos simplificar ecuaciones con la orden \"factor\". Este comando realiza por defecto factorizaciones con coeficientes racionales."
   ]
  },
  {
   "cell_type": "code",
   "execution_count": null,
   "metadata": {
    "collapsed": true
   },
   "outputs": [],
   "source": [
    " factor(eq);\n",
    " 6*x^2+x-2=0; factor(%); solve(%);\n",
    " factor(2*x^2-x-4); solve(2*x^2-x-4);\n",
    " factor(2*x^7-x^4-4*x^2); solve(2*x^7-x^4-4*x^2);"
   ]
  },
  {
   "cell_type": "markdown",
   "metadata": {},
   "source": [
    "Para el cálculo aproximado de raíces (tanto reales como complejas) de polinomios podemos usar la orden \"allroots\"."
   ]
  },
  {
   "cell_type": "code",
   "execution_count": null,
   "metadata": {
    "collapsed": true
   },
   "outputs": [],
   "source": [
    "allroots(2*x^2-x-4);\n",
    " allroots(2*x^5-x^2-4),numer;\n",
    " allroots(2*x^7-x^4-4*x^2),numer;\n",
    " subst(x=1.224178132898109,2*x^7-x^4-4*x^2);\n",
    " expand(subst(x=0.74756650341073*%i-0.90601917769566,2*x^7-x^4-4*x^2));"
   ]
  },
  {
   "cell_type": "markdown",
   "metadata": {},
   "source": [
    "La orden \"solve\" sólo resuelve ecuaciones algebraicas. Para resolver numéricamente ecuaciones trascendentes podemos usar la orden \"find_root\" indicando un intervalo que contenga a la raíz buscada."
   ]
  },
  {
   "cell_type": "code",
   "execution_count": null,
   "metadata": {
    "collapsed": true
   },
   "outputs": [],
   "source": [
    "ecu:2-x^2=exp(x);\n",
    " solve(ecu); float(%);\n",
    " find_root(ecu,x,0,2);\n",
    " subst(x=0.53727444917386,2-x^2-exp(x));\n",
    " wxplot2d([2-x^2,exp(x)],[x,0,1]);"
   ]
  },
  {
   "cell_type": "markdown",
   "metadata": {},
   "source": [
    "En general, la resolución de ecuaciones no lineales se hará a través de algoritmos numéricos con la orden \"find_root\". Podemos también usar el célebre método de Newton cargando previamente el paquete \"mnewton\" correspondiente y usando la instrucción"
   ]
  },
  {
   "cell_type": "code",
   "execution_count": null,
   "metadata": {
    "collapsed": true
   },
   "outputs": [],
   "source": [
    "\"mnewton(expr,x,x_0)\".\n",
    " load(mnewton);\n",
    " mnewton(2-x^2-exp(x),x,1);\n",
    " find_root(2-x^2-exp(x),x,0,1);\n",
    " f:2-cos(x^2)$ g:x*exp(x^2)$ wxplot2d([f,g],[x,0,1]);\n",
    " s:solve(f=g,x) /* El comando \"solve\" no es capaz de resolver numéricamente la ecuación */;\n",
    " float(s);\n",
    " find_root(f=g,x,0,1);\n",
    " mnewton(f=g,x,1); mnewton(f=g,x,0);"
   ]
  },
  {
   "cell_type": "markdown",
   "metadata": {},
   "source": [
    "La sentencia \"mnewton\" se puede aplicar también a sistemas de ecuaciones no lineales."
   ]
  },
  {
   "cell_type": "code",
   "execution_count": null,
   "metadata": {
    "collapsed": true
   },
   "outputs": [],
   "source": [
    "mnewton([x^2+y-3,x+y^3+1],[x,y],[0,0]);\n",
    " subst([x=-1.487589175670373,y=0.78707844442834],[x^2+y-3,x+y^3+1]);\n",
    " mnewton([2*3^x-x/y-5, x+2^y-4], [x,y], [1,1]);\n",
    " mnewton([x^2+exp(y)+z^2-2,exp(x)+y^2+z^2-2,x^2+y^2*z-2],[x,y,z],[1,1,1]);\n",
    " mnewton([x^2+exp(y)+tan(z)-2,exp(x^2)+y^2+z^2-2,x^2+y^2*z-2],[x,y,z],[1,1,1]);"
   ]
  },
  {
   "cell_type": "markdown",
   "metadata": {},
   "source": [
    "Otros comandos útiles a efectos de simplificación de expresiones son \"ratsimp\" (para expresiones racionales), \"radcan\" (irracionales) y \"trigsimp\" (trigonométricas)."
   ]
  },
  {
   "cell_type": "code",
   "execution_count": null,
   "metadata": {
    "collapsed": true
   },
   "outputs": [],
   "source": [
    " ratsimp(2*x*(x^2-3)+x^2-x^3);\n",
    " ratsimp(1/x+4/(x-3));\n",
    " radcan(sqrt(6)/(sqrt(6)-sqrt(3)));\n",
    " radcan((exp(2*x)-1)/(exp(x)+1));\n",
    " trigsimp(3*sin(x)^2+cos(x)^2+exp(x)*exp(2*x));\n",
    " trigsimp(3*tan(x)^2+cot(x)^2);"
   ]
  },
  {
   "cell_type": "markdown",
   "metadata": {},
   "source": [
    "Finalmente, comentamos cómo resolver algunas ecuaciones trigonométricas elementales con una variante de la orden \"solve\". En los siguientes casos, en las situaciones más favorables, \"solve\" sólo devuelve una solución entre las infinitas posibles."
   ]
  },
  {
   "cell_type": "code",
   "execution_count": null,
   "metadata": {
    "collapsed": true
   },
   "outputs": [],
   "source": [
    "solve(sin(x)=0,x);\n",
    " solve(cos(x)=0,x);\n",
    " solve(sin(1/x)=0,x);\n",
    " solve(sin(x)-cos(x)=0,x);"
   ]
  },
  {
   "cell_type": "markdown",
   "metadata": {},
   "source": [
    "En algunos casos, podemos solventar este problema cargando el paquete \"to_poly_solve\" y usando la orden \"%solve\"."
   ]
  },
  {
   "cell_type": "code",
   "execution_count": null,
   "metadata": {
    "collapsed": true
   },
   "outputs": [],
   "source": [
    "load(to_poly_solve)$\n",
    " solve(sin(x)=0,x);\n",
    " %solve(sin(x)=0,x); nicedummies(%);\n",
    " nicedummies(%solve(cos(x),x));\n",
    " nicedummies(ratsimp(%solve(sin(1/x)=0,x)));\n",
    " nicedummies(ratsimp(%solve(sin(x)-cos(x)=0,x)));\n",
    " nicedummies(ratsimp(%solve(sin(x)=1/2,x)));\n",
    " nicedummies(ratsimp(%solve(sin(x)=2,x)));"
   ]
  }
 ],
 "metadata": {
  "kernelspec": {
   "display_name": "Python 3",
   "language": "python",
   "name": "python3"
  },
  "language_info": {
   "codemirror_mode": {
    "name": "ipython",
    "version": 3
   },
   "file_extension": ".py",
   "mimetype": "text/x-python",
   "name": "python",
   "nbconvert_exporter": "python",
   "pygments_lexer": "ipython3",
   "version": "3.5.1"
  }
 },
 "nbformat": 4,
 "nbformat_minor": 0
}
